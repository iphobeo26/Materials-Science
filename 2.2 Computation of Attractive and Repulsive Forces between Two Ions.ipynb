{
 "cells": [
  {
   "cell_type": "markdown",
   "metadata": {},
   "source": [
    "## Computation of Attractive and Repulsive Forces between Two Ions\n",
    "\n",
    "<br>The atomic radii of $K^{+}$ and $Br^{-}$ ions are 0.138 and 0.196 nm, respectively.\n",
    "<br>(a) Using Equation \n",
    "$$  \n",
    "    E_{A} - \\frac{A}{r}  \n",
    "$$ and \n",
    "$$ \n",
    "     A = \\frac{1}{4 \\pi \\epsilon _{0}}(|Z_{1}e|)(|Z_{2}e|) \n",
    "$$\n",
    " \n",
    "<br>calculate the force of attraction between these two icons at their equilibrium interionic separation (i.e., when the ions just touch one another).\n",
    "<br>(b) What is the force of repulsion at this same separation distance?\n",
    "<br>\n",
    "### Solution \n",
    "(a) From the equation below, the force of attraction between two ions is.\n",
    "$$ F_{A} = \\frac {dE_{A}}{dr} $$\n",
    "<br> Whereas, according to Equation above. \n",
    "$$  E_{A} - \\frac{A}{r}  $$\n",
    "<br> Now, taking the derivation of $E_{A}$ with respect to $r$ yields the following expression for the force of attraction $F_{A}$:\n",
    "$$ F_{A} = \\frac {dE_{A}}{dr} = \\frac {d( - \\frac {A}{r} )}{dr} = - ( \\frac {-A}{r^{2}}) = \\frac {A}{r^{2}}  $$\n",
    "<br> Now substitution into this equation the expression for $A$ gives\n",
    "$$ F_{A} = \\frac{1}{4 \\pi \\epsilon _{0} r^{2}}(|Z_{1}e|)(|Z_{2}e|) $$\n",
    "<br> Incorporation into this equation values for $e$ and $ \\epsilon _{0} $ leads to\n",
    "$$\n",
    "  F_{A} = \\frac {1}{4 \\pi (8.85 x 10^{-12}F/m)(r^{2})}[|Z_{1}|(1.602 x 10^{-19}C)][|Z_{2}|(1.602 x 10^{-19}C)]\n",
    "$$    \n",
    "$$\n",
    "  F_{A} = \\frac {(2.31 x 10^{-28}Nm^{2})(|Z_{1}|)(|Z_{2}|)}{r^{2}}\n",
    "$$\n",
    "<br> For this problem, $r$ is taken as the interionic separation $r_{0}$ for $KBr$, which is equal to the sum of the $K^{+}$ and $Br^{-}$ ionic radii inasmuch as the ions touch one another -- that is,\n",
    "<br>\n",
    "$$\n",
    "  r_{0} = r_{K^{+}} + r_{Br^{-}}\n",
    "$$\n",
    "<br>\n",
    "$$\n",
    "r_{0} = 0.138 nm + 0.196 nm\n",
    "$$\n",
    "<br>\n",
    "$$\n",
    "r_{0} = 0.334 x 10^{-9}m \n",
    "$$\n",
    "<br> When we substitute this value for $r$ into Equation XX, and taking ion 1 to be $K^{+}$ and ion 2 as $Br^{-}$ (i.e., $Z_{1} = +1$ and $Z_{2} = -1$, then the force of attraction is equal to\n",
    "<br>\n",
    "\n",
    "$$\n",
    "F_{A} = \\frac {(2.31 x 10^{-28}Nm^{2})(|+1|)(|-1|)}{(0.334 x 10^{-9}m)^{2}} = 2.07 x 10^{-9}N\n",
    "$$\n",
    "<br> (b) At the equilibrium separation distance the sum of attractive and repulsive forces is zero according to Equation 2.4. This means that\n",
    "<br>\n",
    "$$\n",
    "F_{R} = - F_{A} = -(2.07 x 10^{-9}N) = -2.07 x 10^{-9}N\n",
    "$$"
   ]
  },
  {
   "cell_type": "code",
   "execution_count": 1,
   "metadata": {},
   "outputs": [
    {
     "name": "stdout",
     "output_type": "stream",
     "text": [
      "Insert the valence value for element 1 : 1\n",
      "Insert the valence value for element 2 : -1\n",
      "Insert the atomic radius for element 1 : 0.138\n",
      "Insert the atomic radius for element 2 : 0.196\n"
     ]
    }
   ],
   "source": [
    "#Here the math begins\n",
    "import math as math\n",
    "import pandas as pd\n",
    "\n",
    "\n",
    "e = 1.602 * 10**(-19) #electronic charge in Coulomb\n",
    "E0 = 8.85 * 10**(-12) #permitivity vacuum in F/m\n",
    "Z1 = float(input(\"Insert the valence value for element 1 : \")) #absolute values of the valence for element 1\n",
    "Z2 = float(input(\"Insert the valence value for element 2 : \")) #absolute valies of the valence for element 2\n",
    "r1 = float(input(\"Insert the atomic radius for element 1 : \")) #atomic radius for element 1 in nm\n",
    "r2 = float(input(\"Insert the atomic radius for element 2 : \")) #atmoic radius for element 2 in nm\n",
    "r0 = r1 + r2 #interatomic separation which equal to r(K) + r(Br)\n",
    "\n",
    "Fa = math.pow(e, 2) * Z1 * Z2 / (4 * (math.pi) * E0 * math.pow(r0, 2))\n",
    "print(Fa)"
   ]
  }
 ],
 "metadata": {
  "kernelspec": {
   "display_name": "Python 3",
   "language": "python",
   "name": "python3"
  },
  "language_info": {
   "codemirror_mode": {
    "name": "ipython",
    "version": 3
   },
   "file_extension": ".py",
   "mimetype": "text/x-python",
   "name": "python",
   "nbconvert_exporter": "python",
   "pygments_lexer": "ipython3",
   "version": "3.8.3"
  }
 },
 "nbformat": 4,
 "nbformat_minor": 4
}
