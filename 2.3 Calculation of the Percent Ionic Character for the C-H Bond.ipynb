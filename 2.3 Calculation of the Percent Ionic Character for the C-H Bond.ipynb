{
 "cells": [
  {
   "cell_type": "markdown",
   "metadata": {},
   "source": [
    "## Calculation of the Percent Ionic Character for the C-H Bond\n",
    "<br>\n",
    "Compute the percent ionic character ($\\%IC$) of the interatomic bond that forms between carbon and hydrogen.\n",
    "<h3> Solution </h3>\n",
    "<br>\n",
    "The $\\%IC$ of a bond between two atoms/ions, A and B (A being the more electronegative) is a function of their electronegativities $X_{A}$ and $Y_{B}$, according to Equation 2.16. The electronegativities for C and H (see Figure 2.9) are $X_{C} = 2.5$ and $X_{B} = 2.1$. Therefore, the $\\%IC$ is\n",
    "<br>\n",
    "<br>\n",
    "$$\n",
    "\\%IC = \\{1-e^{[-(0.25){(X_{C}-X_{H})}^2]} x 100\\}\n",
    "$$\n",
    "<br>\n",
    "$$\n",
    "\\%IC = \\{1-e^{[-(0.25){(2.5-2.1)}^2]} x 100\\}\n",
    "$$\n",
    "<br>\n",
    "$$\\%IC = 3.9\\%$$\n",
    "<br>\n",
    "Thus the C-H atomic bond is primarily covalent (96.1%)"
   ]
  },
  {
   "cell_type": "code",
   "execution_count": 1,
   "metadata": {},
   "outputs": [
    {
     "name": "stdout",
     "output_type": "stream",
     "text": [
      "Atoms with higher electronegativities: 2.5\n",
      "Atoms with lower electronegativities: 2.1\n",
      "So the ionic bond is around 3.9%\n",
      "So the covalent bond is around 96.1%\n"
     ]
    }
   ],
   "source": [
    "# Here the math begins\n",
    "import math as math\n",
    "\n",
    "# Basic Parameters\n",
    "# -----------------------------------------------------\n",
    "Xa = float(input(\"Atoms with higher electronegativities: \"))\n",
    "Xb = float(input(\"Atoms with lower electronegativities: \"))\n",
    "\n",
    "# Percetange of Ionic Character \n",
    "# -----------------------------------------------------\n",
    "y = float(-1 * 0.25 * math.pow(Xa - Xb, 2))\n",
    "pct_ic = round(((1 - math.exp(y)) * 100), 1)\n",
    "pct_cv = 100 - pct_ic\n",
    "text = 'So the ionic bond is around'\n",
    "result = f'{text} {pct_ic}%'\n",
    "text1 = 'So the covalent bond is around'\n",
    "result1 = f'{text1} {pct_cv}%'\n",
    "\n",
    "print(result)\n",
    "print(result1)"
   ]
  },
  {
   "cell_type": "code",
   "execution_count": null,
   "metadata": {},
   "outputs": [],
   "source": []
  }
 ],
 "metadata": {
  "kernelspec": {
   "display_name": "Python 3",
   "language": "python",
   "name": "python3"
  },
  "language_info": {
   "codemirror_mode": {
    "name": "ipython",
    "version": 3
   },
   "file_extension": ".py",
   "mimetype": "text/x-python",
   "name": "python",
   "nbconvert_exporter": "python",
   "pygments_lexer": "ipython3",
   "version": "3.8.3"
  }
 },
 "nbformat": 4,
 "nbformat_minor": 4
}
