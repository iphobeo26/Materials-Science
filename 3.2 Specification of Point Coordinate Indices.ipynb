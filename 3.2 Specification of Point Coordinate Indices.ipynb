{
 "cells": [
  {
   "cell_type": "markdown",
   "metadata": {},
   "source": [
    "## Specification of Point Coordinate Indices\n",
    "\n",
    "<p>Specify coordinate indices for all numbered points of the unit cell in the illustration on the next page.</p>"
   ]
  },
  {
   "cell_type": "code",
   "execution_count": null,
   "metadata": {},
   "outputs": [],
   "source": [
    "# Import all necessary libraries, this is a configuration step for the exercise.\n",
    "# Please run it before the simulation code!\n",
    "import numpy as np\n",
    "import matplotlib\n",
    "# Show Plot in The Notebook\n",
    "matplotlib.use(\"nbagg\")\n",
    "import matplotlib.pyplot as plt\n",
    "import matplotlib.animation as animation"
   ]
  },
  {
   "cell_type": "code",
   "execution_count": null,
   "metadata": {},
   "outputs": [],
   "source": []
  },
  {
   "cell_type": "markdown",
   "metadata": {},
   "source": [
    "### Solution\n",
    "\n",
    "<p>For this unit cell, coordinate points are located at all eight corners with a single point at the center position.</p>\n",
    "<p>Point 1 is located at the origin of the coordinate systems, and, therefore, its lattice position indices referenced to the $x$, $y$, and $z$ axes are 0$a$, 0$b$, and 0$c$, respectively. And from Equations 3.1a through 3.1c,</p>\n",
    "<ul>\n",
    "    <li>lattice position referenced to the $x$ axis = 0$a$ = $qa$\n",
    "    <li>lattice position referenced to the $y$ axis = 0$b$ = $rb$\n",
    "    <li>lattice position referenced to the $z$ axis = 0$c$ = $sc$    \n",
    "</ul>\n",
    "<p>Solving the above three expressions for values of the $q$, $r$,and $s$ indices leads to</p>\n",
    "<br>\n",
    "$$q = \\frac{0a}{a} = 0$$<br>\n",
    "$$r = \\frac{0b}{b} = 0$$<br>\n",
    "$$s = \\frac{0c}{c} = 0$$<br>\n",
    "<p>Therefore this is the 0 0 0 point.</p>\n",
    "<p>Because point number 2 lies one unit cell edge length along the $x$ axis, its lattice positions indices referenced to the $x$, $y$, and $z$ are $a$, 0$b$, and 0$c$, and</p>\n",
    "<ul>\n",
    "    <li>lattice position index referenced to the $x$ axis = $a$ = $qa$\n",
    "    <li>lattice position index referenced to the $y$ axis = 0$b$ = $rb$\n",
    "    <li>lattice position index referenced to the $z$ axis = 0$c$ = $sc$    \n",
    "</ul>\n",
    "<p>Thus we determine values for the $q$, $r$, and $s$ indices as follows:</p>\n",
    "    $$q = 1     \\quad     r = 0     \\quad     s = 0$$\n",
    "<p>Hence this point 2 is 1 0 0.</p>\n",
    "<p>This same procedure is carried out for the remaining seven points in the unit cell. Point indices for all nine points are listed in the follwing table.</p>\n",
    "\n",
    "|Point Number | $q$ | $r$ | $s$ |\n",
    "|:---:|:---|:---|:---|\n",
    "| 1 | 0 | 0 | 0 |\n",
    "| 2 | 1 | 0 | 0 |\n",
    "| 3 | 1 | 1 | 0 |\n",
    "| 4 | 0 | 1 | 0 |\n",
    "| 5 | $\\frac{1}{2}$ | $\\frac{1}{2}$ | $\\frac{1}{2}$ |\n",
    "| 6 | 0 | 0 | 1 |\n",
    "| 7 | 0 | 0 | 1 |\n",
    "| 8 | 0 | 0 | 1 |\n",
    "| 9 | 0 | 0 | 1 |"
   ]
  },
  {
   "cell_type": "markdown",
   "metadata": {},
   "source": []
  }
 ],
 "metadata": {
  "kernelspec": {
   "display_name": "Python 3",
   "language": "python",
   "name": "python3"
  },
  "language_info": {
   "codemirror_mode": {
    "name": "ipython",
    "version": 3
   },
   "file_extension": ".py",
   "mimetype": "text/x-python",
   "name": "python",
   "nbconvert_exporter": "python",
   "pygments_lexer": "ipython3",
   "version": "3.8.3"
  }
 },
 "nbformat": 4,
 "nbformat_minor": 4
}
