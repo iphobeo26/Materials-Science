{
 "cells": [
  {
   "cell_type": "markdown",
   "metadata": {},
   "source": [
    "## Determination of Directional Indices\n",
    "\n",
    "Determine the indices for the direction shown in the accompanying figure."
   ]
  },
  {
   "cell_type": "code",
   "execution_count": null,
   "metadata": {},
   "outputs": [],
   "source": [
    "# Import all necessary libraries, this is a configuration step for the exercise.\n",
    "# Please run it before the simulation code!\n",
    "import numpy as np\n",
    "import matplotlib\n",
    "# Show Plot in The Notebook\n",
    "matplotlib.use(\"nbagg\")\n",
    "import matplotlib.pyplot as plt\n",
    "import matplotlib.animation as animation"
   ]
  },
  {
   "cell_type": "markdown",
   "metadata": {},
   "source": [
    "### Solution\n",
    "\n",
    "It is first necessary totake note of the vector tail and head coordinates. From the illustration, tail coordinates are as follows:\n",
    "\n",
    "\\begin{equation}\n",
    "x_{1} = a \\quad y_{1} = 0b \\quad z_{1} = 0c\n",
    "\\end{equation}\n",
    "\n",
    "For the head coordinates,\n",
    "\n",
    "\\begin{equation}\n",
    "x_{2} = 0a \\quad y_{2} = b \\quad z_{2} = \\frac{c}{2}\n",
    "\\end{equation}\n",
    "\n",
    "Now taking point coordinate differences,\n",
    "\n",
    "\\begin{align}\n",
    "&x_{2} - x_{1} = 0a - a = -a \\\\\n",
    "&y_{2} - y_{1} = b - 0b = b \\\\\n",
    "&z_{2} - z_{1} = \\frac{c}{2} - 0c = \\frac{c}{2} \\\\\n",
    "\\end{align}\n",
    "\n",
    "It is now possible to use Equations 3.2a through 3.2c to compute values of $u$, $v$, and $w$. However, because the $z_{2} - z_{1}$ difference is a fraction (i.e., $\\frac{c}{2}$), we anticipate that in order to have integer values for the three indices, it is neccessary to assign $n$ a value of 2. Thus,\n",
    "\n",
    "\n",
    "\\begin{align}\n",
    "&u  =  n \\big( \\frac{x_{2} - x_{1}}{a} \\big )  =  2 \\big( \\frac{-a}{a} \\big)  = -2 \\\\\n",
    "&v  =  n \\big( \\frac{y_{2} - y_{1}}{b} \\big )  =  2 \\big( \\frac{b}{b} \\big)  = 2 \\\\\n",
    "&w  =  n \\big( \\frac{z_{2} - z_{1}}{c} \\big )  =  2 \\big( \\frac{\\frac{c}{2}}{c} \\big)  = 1 \\\\\n",
    "\\end{align}\n",
    "\n",
    "And, finally enclosure of the -2, 2, and 1 indices in brackets leads to $[\\overline{2}21]$ as the direction designation.\n",
    "This procedure is summarized as follows:\n",
    "\n",
    "|Procedure|$x$|$y$|$z$|\n",
    "|:--------|:--|:--|:--|\n",
    "|Head coordinates ($x_{2}, y_{2}, z_{2}$)|$0a$|$b$|$c/2$|\n",
    "|Tail coordinates ($x_{1}, y_{1}, z_{1}$)|$a$|$0b$|$0c$|\n",
    "|Coordinates differences |$-a$|$b$|$c/2$|\n",
    "|Calculated values of $u$, $v$, and $w$)|$u$ = -2|$v$ = 2|$w$ = 1|\n",
    "|Enclosure| |[$\\overline{2}21$]| |"
   ]
  },
  {
   "cell_type": "code",
   "execution_count": 1,
   "metadata": {},
   "outputs": [
    {
     "ename": "NameError",
     "evalue": "name 'test' is not defined",
     "output_type": "error",
     "traceback": [
      "\u001b[1;31m---------------------------------------------------------------------------\u001b[0m",
      "\u001b[1;31mNameError\u001b[0m                                 Traceback (most recent call last)",
      "\u001b[1;32m<ipython-input-1-4e1243bd22c6>\u001b[0m in \u001b[0;36m<module>\u001b[1;34m\u001b[0m\n\u001b[1;32m----> 1\u001b[1;33m \u001b[0mtest\u001b[0m\u001b[1;33m\u001b[0m\u001b[1;33m\u001b[0m\u001b[0m\n\u001b[0m",
      "\u001b[1;31mNameError\u001b[0m: name 'test' is not defined"
     ]
    }
   ],
   "source": []
  }
 ],
 "metadata": {
  "kernelspec": {
   "display_name": "Python 3",
   "language": "python",
   "name": "python3"
  },
  "language_info": {
   "codemirror_mode": {
    "name": "ipython",
    "version": 3
   },
   "file_extension": ".py",
   "mimetype": "text/x-python",
   "name": "python",
   "nbconvert_exporter": "python",
   "pygments_lexer": "ipython3",
   "version": "3.8.3"
  }
 },
 "nbformat": 4,
 "nbformat_minor": 4
}
