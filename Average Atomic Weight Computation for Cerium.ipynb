{
 "cells": [
  {
   "cell_type": "code",
   "execution_count": 1,
   "metadata": {},
   "outputs": [],
   "source": [
    "import matplotlib as npl\n",
    "import numpy as np\n",
    "import math\n",
    "from sympy import symbols, exp, Eq"
   ]
  },
  {
   "cell_type": "markdown",
   "metadata": {},
   "source": [
    "In this notebook, I try to calculate the average of atomic weight using python. Several methods were tried and not all of these succeed the test."
   ]
  },
  {
   "cell_type": "markdown",
   "metadata": {},
   "source": [
    "### 1st Method"
   ]
  },
  {
   "cell_type": "code",
   "execution_count": 28,
   "metadata": {},
   "outputs": [
    {
     "name": "stdout",
     "output_type": "stream",
     "text": [
      "140.11531077\n"
     ]
    }
   ],
   "source": [
    "#Calculation of Average Atomic Weight Computation for Cerium\n",
    "#I tried to create an input form in python using jupyter notebook to compute the problem\n",
    "f1 = 0.185/100\n",
    "A1 = 135.907\n",
    "f2 = 0.251/100\n",
    "A2 = 137.906\n",
    "f3 = 88.450/100\n",
    "A3 = 139.905\n",
    "f4 = 11.114/100\n",
    "A4 = 141.909\n",
    "Aw = (f1*A1 + f2*A2 + f3*A3 +f4*A4)\n",
    "print(Aw)"
   ]
  },
  {
   "cell_type": "markdown",
   "metadata": {},
   "source": [
    "### 2nd Method"
   ]
  },
  {
   "cell_type": "code",
   "execution_count": 29,
   "metadata": {},
   "outputs": [
    {
     "name": "stdout",
     "output_type": "stream",
     "text": [
      "Enter number of f1: 0.00185\n",
      "Enter number of A1: 135.907\n",
      "Enter number of f2: 0.00251\n",
      "Enter number of A2: 137.906\n",
      "Enter number of f3: 0.8845\n",
      "Enter number of A3: 139.905\n",
      "Enter number of f4: 0.11114\n",
      "Enter number of A4: 141.909\n",
      "0.00185 * 135.907 + 0.00251 * 137.906 + 0.8845 * 139.905 + 0.11114 * 141.909 = \n",
      "Average Atomic Weight 140.11531076999998\n"
     ]
    }
   ],
   "source": [
    "f1 = float(input(\"Enter number of f1: \"))\n",
    "A1 = float(input(\"Enter number of A1: \"))\n",
    "f2 = float(input(\"Enter number of f2: \"))\n",
    "A2 = float(input(\"Enter number of A2: \"))\n",
    "f3 = float(input(\"Enter number of f3: \"))\n",
    "A3 = float(input(\"Enter number of A3: \"))\n",
    "f4 = float(input(\"Enter number of f4: \"))\n",
    "A4 = float(input(\"Enter number of A4: \"))\n",
    "Aw = (f1*A1 + f2*A2 + f3*A3 + f4*A4)\n",
    "print('{} * {} + {} * {} + {} * {} + {} * {} = '.format(f1, A1, f2, A2, f3, A3, f4, A4))\n",
    "print('Average Atomic Weight ' + str(Aw))"
   ]
  },
  {
   "cell_type": "markdown",
   "metadata": {},
   "source": [
    "### 3rd Method"
   ]
  },
  {
   "cell_type": "markdown",
   "metadata": {},
   "source": [
    "Source of the code\n",
    "here is the link : https://stackoverflow.com/questions/52485601/how-do-i-ask-a-set-of-questions-multiple-times-based-on-user-input\n",
    "We can try to implement the same idea."
   ]
  },
  {
   "cell_type": "code",
   "execution_count": 1,
   "metadata": {},
   "outputs": [],
   "source": [
    "def ask_num_objects():\n",
    "    return int(input(\"Enter the number of atoms:\"))\n",
    "\n",
    "def ask_object_sizes(num_objects):\n",
    "    sizes = []\n",
    "    for i in range(num_objects):\n",
    "        percent = float(input(\"Fraction of atoms {}: \".format(i)))\n",
    "        weight = float(input(\"Weight of atoms {}: \".format(i)))\n",
    "        average = percent * weight\n",
    "        sizes.append((average))\n",
    "        print(average)\n",
    "    print(\"So the average of\" ,num_objects, \"atom(s) is/are: \", sum(sizes))  \n",
    "    return sizes\n",
    "\n",
    "def main():\n",
    "    num_objects = ask_num_objects()\n",
    "    object_sizes = ask_object_sizes(num_objects)"
   ]
  },
  {
   "cell_type": "code",
   "execution_count": 27,
   "metadata": {},
   "outputs": [
    {
     "name": "stdout",
     "output_type": "stream",
     "text": [
      "Enter the number of atoms:4\n",
      "Fraction of atoms 0: 0.00185\n",
      "Weight of atoms 0: 135.907\n",
      "0.25142795\n",
      "Fraction of atoms 1: 0.00251\n",
      "Weight of atoms 1: 137.906\n",
      "0.34614406000000003\n",
      "Fraction of atoms 2: 0.8845\n",
      "Weight of atoms 2: 139.905\n",
      "123.7459725\n",
      "Fraction of atoms 3: 0.11114\n",
      "Weight of atoms 3: 141.909\n",
      "15.77176626\n",
      "So the average of 4 atom(s) is/are:  140.11531076999998\n"
     ]
    }
   ],
   "source": [
    "main()"
   ]
  },
  {
   "cell_type": "code",
   "execution_count": null,
   "metadata": {},
   "outputs": [],
   "source": []
  }
 ],
 "metadata": {
  "kernelspec": {
   "display_name": "Python 3",
   "language": "python",
   "name": "python3"
  },
  "language_info": {
   "codemirror_mode": {
    "name": "ipython",
    "version": 3
   },
   "file_extension": ".py",
   "mimetype": "text/x-python",
   "name": "python",
   "nbconvert_exporter": "python",
   "pygments_lexer": "ipython3",
   "version": "3.8.3"
  }
 },
 "nbformat": 4,
 "nbformat_minor": 4
}
